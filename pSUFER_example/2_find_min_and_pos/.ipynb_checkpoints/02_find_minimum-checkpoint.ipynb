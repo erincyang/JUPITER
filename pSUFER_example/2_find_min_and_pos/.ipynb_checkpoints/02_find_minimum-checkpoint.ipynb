{
 "cells": [
  {
   "cell_type": "code",
   "execution_count": 1,
   "metadata": {},
   "outputs": [
    {
     "name": "stdout",
     "output_type": "stream",
     "text": [
      "I3_12_0001\n"
     ]
    }
   ],
   "source": [
    "import pandas as pd\n",
    "from glob import glob \n",
    "\n",
    "for score_file in glob(\"../1_relax/output/*/*_scores.sc\")\n",
    "    pdb = score_file.split(\"/\")[-2]\n",
    "    # change \n",
    "    score_file_all = open(f'../1_relax/output/{pdb}/{pdb}_scores.sc').readlines()\n",
    "    \n",
    "    headers =  score_file_all[0].split()[1:]\n",
    "    score_data = [line.split()[1:] for line in score_file_all[1:]] #score data\n",
    "    \n",
    "    score_df = pd.DataFrame(score_data, columns = headers, dtype=float)\n",
    "    score_df = score_df.sort_values(by=[\"total_score\"])\n",
    "\n",
    "    minimum = score_df.iloc[0]\n",
    "    \n",
    "    print(\"cp ../1_relax/output/*/\" + minimum[\"description\"] + \".pdb ../3_filterscan/input/\")"
   ]
  },
  {
   "cell_type": "code",
   "execution_count": null,
   "metadata": {},
   "outputs": [],
   "source": []
  }
 ],
 "metadata": {
  "kernelspec": {
   "display_name": "PyRosetta (Python 3.7)",
   "language": "python",
   "name": "pyrosetta"
  },
  "language_info": {
   "codemirror_mode": {
    "name": "ipython",
    "version": 3
   },
   "file_extension": ".py",
   "mimetype": "text/x-python",
   "name": "python",
   "nbconvert_exporter": "python",
   "pygments_lexer": "ipython3",
   "version": "3.7.7"
  }
 },
 "nbformat": 4,
 "nbformat_minor": 4
}
